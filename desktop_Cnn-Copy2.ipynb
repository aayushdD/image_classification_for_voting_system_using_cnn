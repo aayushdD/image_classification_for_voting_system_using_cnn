{
 "cells": [
  {
   "cell_type": "code",
   "execution_count": 1,
   "metadata": {},
   "outputs": [],
   "source": [
    "from tensorflow.keras.models import load_model\n",
    "m = load_model('model_final.h5')"
   ]
  },
  {
   "cell_type": "code",
   "execution_count": 2,
   "metadata": {},
   "outputs": [],
   "source": [
    "\n",
    "from numpy.random import seed\n",
    "from tensorflow import set_random_seed\n",
    "\n",
    "import pandas as pd\n",
    "import numpy as np\n",
    "\n",
    "\n",
    "import tensorflow as tf\n",
    "from tensorflow import keras\n",
    "from tensorflow.keras.layers import Conv2D, MaxPooling2D\n",
    "from tensorflow.keras.layers import Dense, Dropout, Flatten, Activation\n",
    "from tensorflow.keras.models import Sequential\n",
    "from tensorflow.keras.callbacks import EarlyStopping, ReduceLROnPlateau, ModelCheckpoint\n",
    "from tensorflow.keras.optimizers import Adam\n",
    "\n",
    "import os\n",
    "import cv2\n",
    "\n",
    "from sklearn.utils import shuffle\n",
    "from sklearn.metrics import confusion_matrix\n",
    "from sklearn.model_selection import train_test_split\n",
    "import itertools\n",
    "import shutil\n",
    "import matplotlib.pyplot as plt\n",
    "%matplotlib inline"
   ]
  },
  {
   "cell_type": "code",
   "execution_count": 3,
   "metadata": {},
   "outputs": [],
   "source": [
    "from tensorflow.keras.preprocessing.image import ImageDataGenerator\n"
   ]
  },
  {
   "cell_type": "code",
   "execution_count": 4,
   "metadata": {},
   "outputs": [],
   "source": [
    "datagen= ImageDataGenerator(rescale=1./255,horizontal_flip=True,vertical_flip=True,rotation_range=90,zoom_range=0.2, width_shift_range=0.1,height_shift_range=0.1,shear_range=0.05,channel_shift_range=0.1)\n"
   ]
  },
  {
   "cell_type": "code",
   "execution_count": 5,
   "metadata": {},
   "outputs": [
    {
     "name": "stdout",
     "output_type": "stream",
     "text": [
      "Found 88666 images belonging to 48 classes.\n"
     ]
    }
   ],
   "source": [
    "train_path = '/home/oem/Downloads/haha/train_dir'\n",
    "train_batch_size = 32\n",
    "\n",
    "train_gen = datagen.flow_from_directory(train_path,\n",
    "                                        target_size=(96,96),\n",
    "                                        batch_size=train_batch_size,\n",
    "                                        class_mode='categorical', shuffle =True)\n"
   ]
  },
  {
   "cell_type": "code",
   "execution_count": 6,
   "metadata": {},
   "outputs": [
    {
     "data": {
      "text/plain": [
       "{'0': 0,\n",
       " '1': 1,\n",
       " '10': 2,\n",
       " '11': 3,\n",
       " '12': 4,\n",
       " '13': 5,\n",
       " '14': 6,\n",
       " '15': 7,\n",
       " '16': 8,\n",
       " '17': 9,\n",
       " '18': 10,\n",
       " '19': 11,\n",
       " '2': 12,\n",
       " '20': 13,\n",
       " '21': 14,\n",
       " '22': 15,\n",
       " '23': 16,\n",
       " '24': 17,\n",
       " '25': 18,\n",
       " '26': 19,\n",
       " '27': 20,\n",
       " '28': 21,\n",
       " '29': 22,\n",
       " '3': 23,\n",
       " '30': 24,\n",
       " '31': 25,\n",
       " '32': 26,\n",
       " '33': 27,\n",
       " '34': 28,\n",
       " '35': 29,\n",
       " '36': 30,\n",
       " '37': 31,\n",
       " '38': 32,\n",
       " '39': 33,\n",
       " '4': 34,\n",
       " '40': 35,\n",
       " '41': 36,\n",
       " '42': 37,\n",
       " '43': 38,\n",
       " '44': 39,\n",
       " '45': 40,\n",
       " '46': 41,\n",
       " '47': 42,\n",
       " '5': 43,\n",
       " '6': 44,\n",
       " '7': 45,\n",
       " '8': 46,\n",
       " '9': 47}"
      ]
     },
     "execution_count": 6,
     "metadata": {},
     "output_type": "execute_result"
    }
   ],
   "source": [
    "train_gen.class_indices"
   ]
  },
  {
   "cell_type": "code",
   "execution_count": 6,
   "metadata": {},
   "outputs": [
    {
     "name": "stdout",
     "output_type": "stream",
     "text": [
      "Found 2500 images belonging to 1 classes.\n"
     ]
    }
   ],
   "source": [
    "\n",
    "test_gen = datagen.flow_from_directory('/home/oem/Downloads/IMAGE/IMAGE/PR_IMAGE/data/test/',\n",
    "                                        target_size=(96,96),\n",
    "                                        batch_size=1,\n",
    "                                        class_mode='categorical',\n",
    "                                        shuffle=False)"
   ]
  },
  {
   "cell_type": "code",
   "execution_count": 7,
   "metadata": {},
   "outputs": [
    {
     "name": "stdout",
     "output_type": "stream",
     "text": [
      "2500/2500 [==============================] - 25s 10ms/step\n"
     ]
    }
   ],
   "source": [
    "pred=m.predict_generator(test_gen,verbose=1)\n"
   ]
  },
  {
   "cell_type": "code",
   "execution_count": 10,
   "metadata": {},
   "outputs": [
    {
     "data": {
      "text/plain": [
       "array([[1.68842617e-02, 1.85821235e-01, 1.64525453e-02, ...,\n",
       "        5.47088159e-04, 1.20641920e-03, 2.91125616e-03],\n",
       "       [2.17684792e-04, 1.45170020e-09, 8.07896874e-11, ...,\n",
       "        2.82328161e-10, 2.09055884e-10, 5.54638890e-10],\n",
       "       [9.84065473e-01, 1.85990884e-05, 5.72086128e-06, ...,\n",
       "        1.15630101e-08, 3.60465897e-08, 5.25803159e-07],\n",
       "       ...,\n",
       "       [1.16666229e-02, 1.14155591e-01, 5.97196333e-02, ...,\n",
       "        9.94600356e-03, 1.45248035e-02, 2.62750983e-02],\n",
       "       [7.37967202e-04, 7.47293960e-09, 1.04527704e-01, ...,\n",
       "        1.02231048e-01, 3.44095588e-01, 4.04294610e-01],\n",
       "       [8.01695496e-05, 3.06104875e-09, 1.11715430e-02, ...,\n",
       "        3.04742962e-01, 2.47712702e-01, 1.52770966e-01]], dtype=float32)"
      ]
     },
     "execution_count": 10,
     "metadata": {},
     "output_type": "execute_result"
    }
   ],
   "source": [
    "pred"
   ]
  },
  {
   "cell_type": "code",
   "execution_count": 8,
   "metadata": {},
   "outputs": [],
   "source": [
    "predicted_class_indices=np.argmax(pred,axis=1)\n"
   ]
  },
  {
   "cell_type": "code",
   "execution_count": 9,
   "metadata": {},
   "outputs": [
    {
     "name": "stdout",
     "output_type": "stream",
     "text": [
      "Found 2500 images belonging to 1 classes.\n",
      "2500/2500 [==============================] - 23s 9ms/step\n"
     ]
    }
   ],
   "source": [
    "from tensorflow.keras.models import load_model\n",
    "m = load_model('model.h5')\n",
    "\n",
    "\n",
    "from numpy.random import seed\n",
    "from tensorflow import set_random_seed\n",
    "import pandas as pd\n",
    "import numpy as np\n",
    "\n",
    "\n",
    "import tensorflow as tf\n",
    "from tensorflow import keras\n",
    "from tensorflow.keras.layers import Conv2D, MaxPooling2D\n",
    "from tensorflow.keras.layers import Dense, Dropout, Flatten, Activation\n",
    "from tensorflow.keras.models import Sequential\n",
    "from tensorflow.keras.callbacks import EarlyStopping, ReduceLROnPlateau, ModelCheckpoint\n",
    "from tensorflow.keras.optimizers import Adam\n",
    "\n",
    "import os\n",
    "import cv2\n",
    "from tensorflow.keras.preprocessing.image import ImageDataGenerator\n",
    "\n",
    "from sklearn.utils import shuffle\n",
    "from sklearn.metrics import confusion_matrix\n",
    "from sklearn.model_selection import train_test_split\n",
    "import itertools\n",
    "import shutil\n",
    "import matplotlib.pyplot as plt\n",
    "%matplotlib inline\n",
    "from tkinter import *\n",
    " \n",
    "window = Tk()\n",
    " \n",
    "window.title(\"Automatic Vote Classification\")\n",
    "window.configure(background='sky blue')\n",
    "\n",
    "window.geometry('1000x1000')\n",
    " \n",
    "lbl = Label(window, text=\"Enter the path to the images to be classified\",font=(\"Arial Bold\", 15), bg=\"snow\")\n",
    " \n",
    "lbl.grid(column=300, row=0,padx=300, pady=100)\n",
    " \n",
    "txt = Entry(window,width=90)\n",
    "\n",
    " \n",
    "txt.grid(column=300, row=10, pady=10)\n",
    " \n",
    "def clicked():\n",
    "    datagen= ImageDataGenerator(rescale=1./255,horizontal_flip=True,vertical_flip=True,rotation_range=90,zoom_range=0.2, width_shift_range=0.1,height_shift_range=0.1,shear_range=0.05,channel_shift_range=0.1)\n",
    "\n",
    "    test_gen = datagen.flow_from_directory(txt.get(),\n",
    "                                        target_size=(96,96),\n",
    "                                        batch_size=1,\n",
    "                                        class_mode='categorical',\n",
    "                                        shuffle=False)\n",
    "    pred=m.predict_generator(test_gen,verbose=1)\n",
    "    labels = (train_gen.class_indices)\n",
    "    labels = dict((v,k) for k,v in labels.items())\n",
    "    predictions = [labels[k] for k in predicted_class_indices]\n",
    "    \n",
    "    filenames=test_gen.filenames\n",
    "    results=pd.DataFrame({\"Filename\":filenames,\n",
    "                      \"Predictions\":predictions})\n",
    "    results.to_csv(\"download_result_final.csv\",index=False)\n",
    "\n",
    " \n",
    "    lbl.configure(text= \"Your file has been downloaded to download_result.csv\")\n",
    " \n",
    "btn = Button(window, text=\"Classify my data\", command=clicked, font=(\"Arial Bold\", 15), bg=\"snow\")\n",
    " \n",
    "btn.grid(column=300, row=2000,padx=100, pady=100)\n",
    " \n",
    "window.mainloop()\n"
   ]
  },
  {
   "cell_type": "code",
   "execution_count": null,
   "metadata": {},
   "outputs": [],
   "source": []
  }
 ],
 "metadata": {
  "kernelspec": {
   "display_name": "TGPU",
   "language": "python",
   "name": "tfenv"
  },
  "language_info": {
   "codemirror_mode": {
    "name": "ipython",
    "version": 3
   },
   "file_extension": ".py",
   "mimetype": "text/x-python",
   "name": "python",
   "nbconvert_exporter": "python",
   "pygments_lexer": "ipython3",
   "version": "3.6.7"
  }
 },
 "nbformat": 4,
 "nbformat_minor": 2
}
